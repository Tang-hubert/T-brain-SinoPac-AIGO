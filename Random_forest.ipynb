{
 "cells": [
  {
   "cell_type": "markdown",
   "metadata": {},
   "source": [
    "## Load Requirements"
   ]
  },
  {
   "cell_type": "code",
   "execution_count": 11,
   "metadata": {},
   "outputs": [],
   "source": [
    "from pathlib import Path\n",
    "import pandas as pd\n",
    "import numpy as np"
   ]
  },
  {
   "cell_type": "markdown",
   "metadata": {},
   "source": [
    "## Load Training data"
   ]
  },
  {
   "cell_type": "code",
   "execution_count": 42,
   "metadata": {},
   "outputs": [],
   "source": []
  },
  {
   "cell_type": "markdown",
   "metadata": {},
   "source": [
    "## Data Preprocessing"
   ]
  },
  {
   "cell_type": "code",
   "execution_count": 45,
   "metadata": {},
   "outputs": [
    {
     "name": "stdout",
     "output_type": "stream",
     "text": [
      "0     11\n",
      "1     12\n",
      "2     15\n",
      "3     14\n",
      "4     43\n",
      "5     12\n",
      "6      4\n",
      "7     13\n",
      "8      5\n",
      "9     15\n",
      "10    13\n",
      "11    14\n",
      "12     5\n",
      "13    25\n",
      "14    18\n",
      "15    12\n",
      "16    12\n",
      "17    18\n",
      "18    14\n",
      "19    16\n",
      "20    14\n",
      "21     5\n",
      "22     9\n",
      "23     5\n",
      "24     9\n",
      "25     4\n",
      "26     7\n",
      "27    22\n",
      "28    23\n",
      "29     7\n",
      "Name: Total_Floors, dtype: int64\n"
     ]
    }
   ],
   "source": [
    "data_dir = Path(r'C:\\Users\\luke1\\Desktop\\projects\\T-brain-SinoPac-AIGO\\data\\training_data.csv')\n",
    "df = pd.read_csv(data_dir)\n",
    "data_columns = {\n",
    "    'ID': 'ID',\n",
    "    '縣市': 'City',\n",
    "    '鄉鎮市區': 'District',\n",
    "    '路名': 'Street_Name',\n",
    "    '土地面積': 'Land_Area',\n",
    "    '使用分區': 'Zoning',\n",
    "    '移轉層次': 'Transfer_Level',\n",
    "    '總樓層數': 'Total_Floors',\n",
    "    '主要用途': 'Primary_Use',\n",
    "    '主要建材': 'Primary_Construction_Material',\n",
    "    '建物型態': 'Building_Type',\n",
    "    '屋齡': 'Age_of_Building',\n",
    "    '建物面積': 'Building_Area',\n",
    "    '車位面積': 'Parking_Area',\n",
    "    '車位個數': 'Number_of_Parking_Spaces',\n",
    "    '橫坐標': 'Longitude',\n",
    "    '縱坐標': 'Latitude',\n",
    "    '備註': 'Remarks',\n",
    "    '主建物面積': 'Main_Building_Area',\n",
    "    '陽台面積': 'Balcony_Area',\n",
    "    '附屬建物面積': 'Auxiliary_Building_Area',\n",
    "    '單價': 'Unit_Price'\n",
    "    }\n",
    "\n",
    "\n",
    "\n",
    "df = df.rename(columns=data_columns)\n",
    "df=df.drop([\"ID\", \"Longitude\",\"Latitude\", \"Remarks\", \"Street_Name\"], axis=1)\n",
    "# df['Address'] = df['City'] + df['District'] + df['Street_Name']\n",
    "# print(df)\n",
    "print(df['Total_Floors'].head(30))\n",
    "import pandas as pd\n",
    "\n",
    "# Step 1a: Handling Missing Values\n",
    "# Assuming df is your dataframe\n",
    "numerical_cols = ['Land_Area', 'Age_of_Building', 'Building_Area', 'Parking_Area', 'Main_Building_Area', 'Balcony_Area', 'Auxiliary_Building_Area']\n",
    "categorical_cols = ['Zoning', 'Transfer_Level', 'Total_Floors', 'Primary_Use', 'Primary_Construction_Material', 'Building_Type', 'Number_of_Parking_Spaces', 'City', 'District']\n",
    "\n",
    "# Fill missing values in numerical columns with the mean\n",
    "for col in numerical_cols:\n",
    "    df[col] = df[col].fillna(df[col].mean())\n",
    "\n",
    "# Fill missing values in categorical columns with the mode\n",
    "for col in categorical_cols:\n",
    "    df[col] = df[col].fillna(df[col].mode().iloc[0])\n",
    "\n",
    "# Step 1b: Encoding Categorical Variables\n",
    "df_encoded = pd.get_dummies(df, columns=categorical_cols)\n",
    "\n",
    "# Now, df_encoded contains all numerical data for modeling.\n",
    "\n",
    "# Step 2a: Creating Relevant Features\n",
    "# For example, create a new feature 'Unit_Price_Per_Square_Meter'\n",
    "# df_encoded['Unit_Price_Per_Square_Meter'] = df_encoded['Unit_Price'] / df_encoded['Building_Area']\n",
    "\n"
   ]
  },
  {
   "cell_type": "markdown",
   "metadata": {},
   "source": [
    "## Basic Train"
   ]
  },
  {
   "cell_type": "code",
   "execution_count": 40,
   "metadata": {},
   "outputs": [],
   "source": [
    "from sklearn.model_selection import train_test_split\n",
    "from sklearn.ensemble import RandomForestRegressor\n",
    "\n",
    "# Step 3: Model Selection\n",
    "X = df_encoded.drop('Unit_Price', axis=1)\n",
    "y = df_encoded['Unit_Price']\n",
    "\n",
    "# Split the data into training and testing sets\n",
    "X_train, X_test, y_train, y_test = train_test_split(X, y, test_size=0.2, random_state=42)\n",
    "\n",
    "# Choose a regression model (Random Forest Regressor in this example)\n",
    "model = RandomForestRegressor(n_estimators=100, random_state=42)\n",
    "\n",
    "# Train the model\n",
    "model.fit(X_train, y_train)\n"
   ]
  },
  {
   "cell_type": "markdown",
   "metadata": {},
   "source": [
    "## Hyperparameter Tuning"
   ]
  },
  {
   "cell_type": "code",
   "execution_count": 28,
   "metadata": {},
   "outputs": [
    {
     "name": "stdout",
     "output_type": "stream",
     "text": [
      "Best Hyperparameters: {'max_depth': 20, 'min_samples_split': 2, 'n_estimators': 300}\n"
     ]
    },
    {
     "data": {
      "text/html": [
       "<style>#sk-container-id-6 {color: black;}#sk-container-id-6 pre{padding: 0;}#sk-container-id-6 div.sk-toggleable {background-color: white;}#sk-container-id-6 label.sk-toggleable__label {cursor: pointer;display: block;width: 100%;margin-bottom: 0;padding: 0.3em;box-sizing: border-box;text-align: center;}#sk-container-id-6 label.sk-toggleable__label-arrow:before {content: \"▸\";float: left;margin-right: 0.25em;color: #696969;}#sk-container-id-6 label.sk-toggleable__label-arrow:hover:before {color: black;}#sk-container-id-6 div.sk-estimator:hover label.sk-toggleable__label-arrow:before {color: black;}#sk-container-id-6 div.sk-toggleable__content {max-height: 0;max-width: 0;overflow: hidden;text-align: left;background-color: #f0f8ff;}#sk-container-id-6 div.sk-toggleable__content pre {margin: 0.2em;color: black;border-radius: 0.25em;background-color: #f0f8ff;}#sk-container-id-6 input.sk-toggleable__control:checked~div.sk-toggleable__content {max-height: 200px;max-width: 100%;overflow: auto;}#sk-container-id-6 input.sk-toggleable__control:checked~label.sk-toggleable__label-arrow:before {content: \"▾\";}#sk-container-id-6 div.sk-estimator input.sk-toggleable__control:checked~label.sk-toggleable__label {background-color: #d4ebff;}#sk-container-id-6 div.sk-label input.sk-toggleable__control:checked~label.sk-toggleable__label {background-color: #d4ebff;}#sk-container-id-6 input.sk-hidden--visually {border: 0;clip: rect(1px 1px 1px 1px);clip: rect(1px, 1px, 1px, 1px);height: 1px;margin: -1px;overflow: hidden;padding: 0;position: absolute;width: 1px;}#sk-container-id-6 div.sk-estimator {font-family: monospace;background-color: #f0f8ff;border: 1px dotted black;border-radius: 0.25em;box-sizing: border-box;margin-bottom: 0.5em;}#sk-container-id-6 div.sk-estimator:hover {background-color: #d4ebff;}#sk-container-id-6 div.sk-parallel-item::after {content: \"\";width: 100%;border-bottom: 1px solid gray;flex-grow: 1;}#sk-container-id-6 div.sk-label:hover label.sk-toggleable__label {background-color: #d4ebff;}#sk-container-id-6 div.sk-serial::before {content: \"\";position: absolute;border-left: 1px solid gray;box-sizing: border-box;top: 0;bottom: 0;left: 50%;z-index: 0;}#sk-container-id-6 div.sk-serial {display: flex;flex-direction: column;align-items: center;background-color: white;padding-right: 0.2em;padding-left: 0.2em;position: relative;}#sk-container-id-6 div.sk-item {position: relative;z-index: 1;}#sk-container-id-6 div.sk-parallel {display: flex;align-items: stretch;justify-content: center;background-color: white;position: relative;}#sk-container-id-6 div.sk-item::before, #sk-container-id-6 div.sk-parallel-item::before {content: \"\";position: absolute;border-left: 1px solid gray;box-sizing: border-box;top: 0;bottom: 0;left: 50%;z-index: -1;}#sk-container-id-6 div.sk-parallel-item {display: flex;flex-direction: column;z-index: 1;position: relative;background-color: white;}#sk-container-id-6 div.sk-parallel-item:first-child::after {align-self: flex-end;width: 50%;}#sk-container-id-6 div.sk-parallel-item:last-child::after {align-self: flex-start;width: 50%;}#sk-container-id-6 div.sk-parallel-item:only-child::after {width: 0;}#sk-container-id-6 div.sk-dashed-wrapped {border: 1px dashed gray;margin: 0 0.4em 0.5em 0.4em;box-sizing: border-box;padding-bottom: 0.4em;background-color: white;}#sk-container-id-6 div.sk-label label {font-family: monospace;font-weight: bold;display: inline-block;line-height: 1.2em;}#sk-container-id-6 div.sk-label-container {text-align: center;}#sk-container-id-6 div.sk-container {/* jupyter's `normalize.less` sets `[hidden] { display: none; }` but bootstrap.min.css set `[hidden] { display: none !important; }` so we also need the `!important` here to be able to override the default hidden behavior on the sphinx rendered scikit-learn.org. See: https://github.com/scikit-learn/scikit-learn/issues/21755 */display: inline-block !important;position: relative;}#sk-container-id-6 div.sk-text-repr-fallback {display: none;}</style><div id=\"sk-container-id-6\" class=\"sk-top-container\"><div class=\"sk-text-repr-fallback\"><pre>RandomForestRegressor(max_depth=20, n_estimators=300, random_state=42)</pre><b>In a Jupyter environment, please rerun this cell to show the HTML representation or trust the notebook. <br />On GitHub, the HTML representation is unable to render, please try loading this page with nbviewer.org.</b></div><div class=\"sk-container\" hidden><div class=\"sk-item\"><div class=\"sk-estimator sk-toggleable\"><input class=\"sk-toggleable__control sk-hidden--visually\" id=\"sk-estimator-id-6\" type=\"checkbox\" checked><label for=\"sk-estimator-id-6\" class=\"sk-toggleable__label sk-toggleable__label-arrow\">RandomForestRegressor</label><div class=\"sk-toggleable__content\"><pre>RandomForestRegressor(max_depth=20, n_estimators=300, random_state=42)</pre></div></div></div></div></div>"
      ],
      "text/plain": [
       "RandomForestRegressor(max_depth=20, n_estimators=300, random_state=42)"
      ]
     },
     "execution_count": 28,
     "metadata": {},
     "output_type": "execute_result"
    }
   ],
   "source": [
    "from sklearn.model_selection import GridSearchCV\n",
    "\n",
    "# Define the hyperparameters grid for tuning\n",
    "param_grid = {\n",
    "    'n_estimators': [100, 200, 300],\n",
    "    'max_depth': [None, 10, 20],\n",
    "    'min_samples_split': [2, 5, 10]\n",
    "}\n",
    "\n",
    "# Perform grid search cross-validation\n",
    "grid_search = GridSearchCV(estimator=model, param_grid=param_grid, cv=5, n_jobs=-1)\n",
    "grid_search.fit(X_train, y_train)\n",
    "\n",
    "# Get the best hyperparameters\n",
    "best_params = grid_search.best_params_\n",
    "print(\"Best Hyperparameters:\", best_params)\n",
    "\n",
    "# Train the model with the best hyperparameters\n",
    "best_model = RandomForestRegressor(n_estimators=best_params['n_estimators'], \n",
    "                                   max_depth=best_params['max_depth'], \n",
    "                                   min_samples_split=best_params['min_samples_split'], \n",
    "                                   random_state=42)\n",
    "best_model.fit(X_train, y_train)\n"
   ]
  },
  {
   "cell_type": "markdown",
   "metadata": {},
   "source": [
    "## Result"
   ]
  },
  {
   "cell_type": "code",
   "execution_count": 29,
   "metadata": {},
   "outputs": [
    {
     "name": "stdout",
     "output_type": "stream",
     "text": [
      "Mean Squared Error: 0.124396356262373\n",
      "Mean Absolute Error: 0.2226259212336311\n",
      "Root Mean Squared Error: 0.35269867629801643\n",
      "R-squared: 0.8754397180799687\n"
     ]
    }
   ],
   "source": [
    "from sklearn.metrics import mean_squared_error, mean_absolute_error\n",
    "import numpy as np\n",
    "\n",
    "# Step 4a: Split the Data (if not done already in Step 3)\n",
    "# X_train, X_test, y_train, y_test = train_test_split(X, y, test_size=0.2, random_state=42)\n",
    "\n",
    "# Step 4b: Model Training (assuming you have chosen the best model from Step 3)\n",
    "# best_model = RandomForestRegressor(n_estimators=best_params['n_estimators'], \n",
    "#                                    max_depth=best_params['max_depth'], \n",
    "#                                    min_samples_split=best_params['min_samples_split'], \n",
    "#                                    random_state=42)\n",
    "# best_model.fit(X_train, y_train)\n",
    "\n",
    "# Step 4c: Model Evaluation\n",
    "# Make predictions on the test data\n",
    "predictions = best_model.predict(X_test)\n",
    "\n",
    "# Evaluate the model using appropriate metrics\n",
    "mse = mean_squared_error(y_test, predictions)\n",
    "mae = mean_absolute_error(y_test, predictions)\n",
    "rmse = np.sqrt(mse)\n",
    "\n",
    "print(\"Mean Squared Error:\", mse)\n",
    "print(\"Mean Absolute Error:\", mae)\n",
    "print(\"Root Mean Squared Error:\", rmse)\n",
    "\n",
    "# Additional: R-squared (coefficient of determination) can also be calculated\n",
    "from sklearn.metrics import r2_score\n",
    "r2 = r2_score(y_test, predictions)\n",
    "print(\"R-squared:\", r2)\n"
   ]
  },
  {
   "cell_type": "markdown",
   "metadata": {},
   "source": [
    "## Dump model"
   ]
  },
  {
   "cell_type": "code",
   "execution_count": 30,
   "metadata": {},
   "outputs": [
    {
     "name": "stdout",
     "output_type": "stream",
     "text": [
      "Model and feature names saved successfully!\n"
     ]
    }
   ],
   "source": [
    "import joblib\n",
    "import json\n",
    "\n",
    "feature_names = df_encoded.columns.tolist()\n",
    "\n",
    "# Save the model to a file\n",
    "joblib.dump(best_model, r'output/random_forest_model.pkl')\n",
    "\n",
    "# Save the list of feature names as a JSON file\n",
    "with open(r'output/feature_names.json', 'w') as f:\n",
    "    json.dump(feature_names, f)\n",
    "\n",
    "print(\"Model and feature names saved successfully!\")\n"
   ]
  },
  {
   "cell_type": "markdown",
   "metadata": {},
   "source": [
    "## Read Public Data"
   ]
  },
  {
   "cell_type": "code",
   "execution_count": 37,
   "metadata": {},
   "outputs": [],
   "source": [
    "df_public = pd.read_csv(r'data\\public_dataset.csv')\n",
    "\n",
    "df_public = df_public.rename(columns=data_columns)\n",
    "\n",
    "df_result = df_public['ID']\n",
    "ddf_publicf=df_public.drop([\"ID\", \"Longitude\",\"Latitude\", \"Remarks\"], axis=1)\n",
    "df_public = df_public.drop(columns=['Street_Name'])\n",
    "import pandas as pd\n",
    "\n",
    "# Step 1a: Handling Missing Values\n",
    "# Assuming df is your dataframe\n",
    "numerical_cols = ['Land_Area', 'Age_of_Building', 'Building_Area', 'Parking_Area', 'Main_Building_Area', 'Balcony_Area', 'Auxiliary_Building_Area']\n",
    "# categorical_cols = ['Zoning', 'Transfer_Level', 'Total_Floors', 'Primary_Use', 'Primary_Construction_Material', 'Building_Type', 'Number_of_Parking_Spaces', 'Address']\n",
    "categorical_cols = ['Zoning', 'Transfer_Level', 'Total_Floors', 'Primary_Use', 'Primary_Construction_Material', 'Building_Type', 'Number_of_Parking_Spaces', 'City', 'District']\n",
    "\n",
    "# Fill missing values in numerical columns with the mean\n",
    "for col in numerical_cols:\n",
    "    df_public[col] = df_public[col].fillna(df_public[col].mean())\n",
    "\n",
    "# Fill missing values in categorical columns with the mode\n",
    "for col in categorical_cols:\n",
    "    df_public[col] = df_public[col].fillna(df_public[col].mode().iloc[0])\n",
    "\n",
    "# Step 1b: Encoding Categorical Variables\n",
    "df_public_encoded = pd.get_dummies(df_public, columns=categorical_cols)\n",
    "\n",
    "# Now, df_encoded contains all numerical data for modeling.\n",
    "\n",
    "\n",
    "\n",
    "\n",
    "# Step 2a: Creating Relevant Features\n",
    "# For example, create a new feature 'Unit_Price_Per_Square_Meter'\n",
    "# df_public_encoded['Unit_Price_Per_Square_Meter'] = df_public_encoded['Unit_Price'] / df_public_encoded['Building_Area']\n",
    "\n"
   ]
  },
  {
   "cell_type": "markdown",
   "metadata": {},
   "source": [
    "## Predict"
   ]
  },
  {
   "cell_type": "code",
   "execution_count": 38,
   "metadata": {},
   "outputs": [
    {
     "name": "stdout",
     "output_type": "stream",
     "text": [
      "[1.75453075 1.69100394 2.62142391 ... 2.39516788 2.51716639 2.31022376]\n"
     ]
    }
   ],
   "source": [
    "# Assuming you have a trained Random Forest model: best_rf_model\n",
    "# Assuming you have new data encoded and stored in df_public_encoded\n",
    "\n",
    "# Get the feature columns used during training\n",
    "training_features = X_train.columns\n",
    "\n",
    "# Ensure the feature columns in the new data match the training feature columns\n",
    "# This step will add missing columns to df_public_encoded, if any\n",
    "for feature in training_features:\n",
    "    if feature not in df_public_encoded.columns:\n",
    "        df_public_encoded[feature] = 0  # Add missing feature columns with default value (can be 0 or any appropriate value)\n",
    "\n",
    "# Reorder columns to match the training data\n",
    "df_public_encoded = df_public_encoded[X_train.columns]\n",
    "\n",
    "# Make predictions on the new data\n",
    "predictions_public = best_model.predict(df_public_encoded)\n",
    "\n",
    "# Print or use predictions_public as needed\n",
    "print(predictions_public)\n"
   ]
  },
  {
   "cell_type": "markdown",
   "metadata": {},
   "source": [
    "## Save file"
   ]
  },
  {
   "cell_type": "code",
   "execution_count": 39,
   "metadata": {},
   "outputs": [
    {
     "name": "stdout",
     "output_type": "stream",
     "text": [
      "           ID  predicted_price\n",
      "0        PU-1         1.754531\n",
      "1        PU-2         1.691004\n",
      "2        PU-3         2.621424\n",
      "3        PU-4         1.547206\n",
      "4        PU-5         3.654943\n",
      "...       ...              ...\n",
      "5871  PU-5872         1.374515\n",
      "5872  PU-5873         1.886579\n",
      "5873  PU-5874         2.395168\n",
      "5874  PU-5875         2.517166\n",
      "5875  PU-5876         2.310224\n",
      "\n",
      "[5876 rows x 2 columns]\n"
     ]
    }
   ],
   "source": [
    "predictions_column = pd.DataFrame(predictions_public, columns=['predicted_price'])\n",
    "df_result = pd.concat([df_result, predictions_column], axis=1)\n",
    "print(df_result)\n",
    "df_result.to_csv(r'output/result.csv', index=False)"
   ]
  }
 ],
 "metadata": {
  "kernelspec": {
   "display_name": "venv",
   "language": "python",
   "name": "python3"
  },
  "language_info": {
   "codemirror_mode": {
    "name": "ipython",
    "version": 3
   },
   "file_extension": ".py",
   "mimetype": "text/x-python",
   "name": "python",
   "nbconvert_exporter": "python",
   "pygments_lexer": "ipython3",
   "version": "3.8.0"
  }
 },
 "nbformat": 4,
 "nbformat_minor": 2
}
