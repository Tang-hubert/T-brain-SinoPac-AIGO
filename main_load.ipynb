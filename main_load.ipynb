{
 "cells": [
  {
   "cell_type": "code",
   "execution_count": 2,
   "metadata": {},
   "outputs": [],
   "source": [
    "from pathlib import Path\n",
    "import pandas as pd\n",
    "import pickle\n",
    "from tensorflow.keras.models import Sequential\n",
    "from tensorflow.keras.models import load_model\n",
    "from sklearn.preprocessing import StandardScaler"
   ]
  },
  {
   "cell_type": "code",
   "execution_count": 11,
   "metadata": {},
   "outputs": [],
   "source": [
    "output_dir = Path(r'C:\\Users\\luke1\\Desktop\\projects\\T-brain-SinoPac-AIGO\\data\\public_dataset.csv')\n",
    "data_columns = {\n",
    "    'ID': 'ID',\n",
    "    '縣市': 'City',\n",
    "    '鄉鎮市區': 'District',\n",
    "    '路名': 'Street_Name',\n",
    "    '土地面積': 'Land_Area',\n",
    "    '使用分區': 'Zoning',\n",
    "    '移轉層次': 'Transfer_Level',\n",
    "    '總樓層數': 'Total_Floors',\n",
    "    '主要用途': 'Primary_Use',\n",
    "    '主要建材': 'Primary_Construction_Material',\n",
    "    '建物型態': 'Building_Type',\n",
    "    '屋齡': 'Age_of_Building',\n",
    "    '建物面積': 'Building_Area',\n",
    "    '車位面積': 'Parking_Area',\n",
    "    '車位個數': 'Number_of_Parking_Spaces',\n",
    "    '橫坐標': 'Longitude',\n",
    "    '縱坐標': 'Latitude',\n",
    "    '備註': 'Remarks',\n",
    "    '主建物面積': 'Main_Building_Area',\n",
    "    '陽台面積': 'Balcony_Area',\n",
    "    '附屬建物面積': 'Auxiliary_Building_Area',\n",
    "    '單價': 'Unit_Price'\n",
    "    }\n"
   ]
  },
  {
   "cell_type": "code",
   "execution_count": 17,
   "metadata": {},
   "outputs": [
    {
     "name": "stdout",
     "output_type": "stream",
     "text": [
      "           ID  predicted_price\n",
      "0        PU-1         1.305613\n",
      "1        PU-2         1.214771\n",
      "2        PU-3         2.133685\n",
      "3        PU-4         1.959962\n",
      "4        PU-5         3.785051\n",
      "...       ...              ...\n",
      "5871  PU-5872         3.469346\n",
      "5872  PU-5873         1.486741\n",
      "5873  PU-5874         1.782084\n",
      "5874  PU-5875         3.445732\n",
      "5875  PU-5876         2.210203\n",
      "\n",
      "[5876 rows x 2 columns]\n"
     ]
    }
   ],
   "source": [
    "def main():\n",
    "    # asyncio.run(main_async())\n",
    "\n",
    "    df = pd.read_csv(output_dir)\n",
    "\n",
    "    df = df.rename(columns=data_columns)\n",
    "\n",
    "    df_result = df['ID']\n",
    "    df=df.drop([\"ID\", \"Longitude\",\"Latitude\", \"Street_Name\", \"Remarks\"], axis=1)\n",
    "    df['Address'] = df['City'] + df['District']\n",
    "    df = df.drop(columns=['City', 'District'])\n",
    "\n",
    "    # Label encoding\n",
    "    from sklearn.preprocessing import LabelEncoder\n",
    "    label_encoder = LabelEncoder()\n",
    "    df['Zoning'] = label_encoder.fit_transform(df['Zoning'])\n",
    "    Zoning_mapping = dict(zip(label_encoder.classes_, label_encoder.transform(label_encoder.classes_)))\n",
    "    df['Primary_Use'] = label_encoder.fit_transform(df['Primary_Use'])\n",
    "    Primary_Use_mapping = dict(zip(label_encoder.classes_, label_encoder.transform(label_encoder.classes_)))\n",
    "    df['Primary_Construction_Material'] = label_encoder.fit_transform(df['Primary_Construction_Material'])\n",
    "    Primary_Construction_Material_mapping = dict(zip(label_encoder.classes_, label_encoder.transform(label_encoder.classes_)))\n",
    "    df['Building_Type'] = label_encoder.fit_transform(df['Building_Type'])\n",
    "    Building_Type_mapping = dict(zip(label_encoder.classes_, label_encoder.transform(label_encoder.classes_)))\n",
    "    df['Address'] = label_encoder.fit_transform(df['Address'])\n",
    "    # Address_mapping = dict(zip(label_encoder.classes_, label_encoder.transform(label_encoder.classes_)))\n",
    "\n",
    "    \n",
    "    model = Sequential()\n",
    "    model = pickle.load(open(r'output\\output.pickle', \"rb\"))\n",
    "\n",
    "    from sklearn.compose import ColumnTransformer\n",
    "    numerical_cols = ['Land_Area', 'Age_of_Building', 'Building_Area', 'Parking_Area', 'Main_Building_Area', 'Balcony_Area', 'Auxiliary_Building_Area']\n",
    "    categorical_cols = ['Zoning', 'Transfer_Level', 'Total_Floors', 'Primary_Use', 'Primary_Construction_Material', 'Building_Type', 'Number_of_Parking_Spaces', 'Address']\n",
    "\n",
    "    # Apply label encoding to categorical columns\n",
    "    label_encoders = {}\n",
    "    for col in categorical_cols:\n",
    "        label_encoders[col] = LabelEncoder()\n",
    "        df[col] = label_encoders[col].fit_transform(df[col])\n",
    "\n",
    "    # Define column transformer to separately scale numerical and label-encoded categorical features\n",
    "    preprocessor = ColumnTransformer(\n",
    "        transformers=[\n",
    "            ('num', StandardScaler(), numerical_cols),\n",
    "            ('cat', 'passthrough', categorical_cols)  # 'passthrough' indicates no transformation for categorical features\n",
    "        ])\n",
    "\n",
    "    # Fit and transform using the column transformer\n",
    "    df = preprocessor.fit_transform(df)\n",
    "\n",
    "    predictions = model.predict(df)\n",
    "    predictions_column = pd.DataFrame(predictions, columns=['predicted_price'])\n",
    "    df_result = pd.concat([df_result, predictions_column], axis=1)\n",
    "    print(df_result)\n",
    "    df_result.to_csv(r'output/result.csv', index=False)\n",
    "\n",
    "if __name__ == \"__main__\":\n",
    "    main()"
   ]
  }
 ],
 "metadata": {
  "kernelspec": {
   "display_name": "venv",
   "language": "python",
   "name": "python3"
  },
  "language_info": {
   "codemirror_mode": {
    "name": "ipython",
    "version": 3
   },
   "file_extension": ".py",
   "mimetype": "text/x-python",
   "name": "python",
   "nbconvert_exporter": "python",
   "pygments_lexer": "ipython3",
   "version": "3.8.0"
  }
 },
 "nbformat": 4,
 "nbformat_minor": 2
}
